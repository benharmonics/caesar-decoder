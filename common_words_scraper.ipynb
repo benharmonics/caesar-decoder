{
 "cells": [
  {
   "cell_type": "code",
   "execution_count": 1,
   "id": "56ee38a4-ff43-40a5-9588-45afe85f3e86",
   "metadata": {},
   "outputs": [],
   "source": [
    "from bs4 import BeautifulSoup\n",
    "import requests"
   ]
  },
  {
   "cell_type": "code",
   "execution_count": 2,
   "id": "f4e74dd3-47fc-4472-ab47-27c7b95b90f9",
   "metadata": {},
   "outputs": [],
   "source": [
    "page = 'https://en.wikipedia.org/wiki/Most_common_words_in_English'\n",
    "r = requests.get(page)\n",
    "soup = BeautifulSoup(r.content, 'html.parser')"
   ]
  },
  {
   "cell_type": "code",
   "execution_count": 3,
   "id": "2c5e7a9c-4eea-4ab4-8331-b168e26b3557",
   "metadata": {},
   "outputs": [],
   "source": [
    "body = soup.find('body')"
   ]
  },
  {
   "cell_type": "code",
   "execution_count": 4,
   "id": "7c765640-93fa-4904-8988-a216eba587fd",
   "metadata": {},
   "outputs": [],
   "source": [
    "content1 = body.find('div', {'id': 'bodyContent'})"
   ]
  },
  {
   "cell_type": "code",
   "execution_count": 5,
   "id": "554089be-8af0-45a0-a489-1a72d3cad825",
   "metadata": {},
   "outputs": [],
   "source": [
    "content2 = content1.find('div', {'id': 'mw-content-text'})"
   ]
  },
  {
   "cell_type": "code",
   "execution_count": 6,
   "id": "031718ca-765f-4e79-b76f-efe5c3c85232",
   "metadata": {},
   "outputs": [],
   "source": [
    "content3 = content2.find('div', {'class': 'mw-parser-output'})"
   ]
  },
  {
   "cell_type": "code",
   "execution_count": 7,
   "id": "123682d1-0318-43d5-a8c0-f5e9623acabf",
   "metadata": {},
   "outputs": [],
   "source": [
    "tbody = content3.find('table').find('tbody')"
   ]
  },
  {
   "cell_type": "code",
   "execution_count": 8,
   "id": "9dd0d316-8ff0-4302-a16a-28a3d172f003",
   "metadata": {},
   "outputs": [],
   "source": [
    "entries = tbody.find_all('tr')"
   ]
  },
  {
   "cell_type": "code",
   "execution_count": 9,
   "id": "2848b9cb-37ed-4700-b310-561a75f13cfc",
   "metadata": {},
   "outputs": [],
   "source": [
    "words = [e.find('td').find('a').text for e in entries[1:]]"
   ]
  },
  {
   "cell_type": "code",
   "execution_count": 10,
   "id": "d1966b4c-b9c2-4ceb-8f10-7ed81723bd1e",
   "metadata": {},
   "outputs": [],
   "source": [
    "with open('100commonwords.txt', 'w+') as f:\n",
    "    for word in words:\n",
    "        if len(word) > 1:\n",
    "            f.write(f'{word.lower()}\\n')"
   ]
  },
  {
   "cell_type": "code",
   "execution_count": null,
   "id": "19af3b33-d065-49ae-8be3-811c33e4991f",
   "metadata": {},
   "outputs": [],
   "source": []
  }
 ],
 "metadata": {
  "kernelspec": {
   "display_name": "Python 3 (ipykernel)",
   "language": "python",
   "name": "python3"
  },
  "language_info": {
   "codemirror_mode": {
    "name": "ipython",
    "version": 3
   },
   "file_extension": ".py",
   "mimetype": "text/x-python",
   "name": "python",
   "nbconvert_exporter": "python",
   "pygments_lexer": "ipython3",
   "version": "3.8.10"
  }
 },
 "nbformat": 4,
 "nbformat_minor": 5
}
